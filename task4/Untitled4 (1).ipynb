{
  "metadata": {
    "kernelspec": {
      "name": "python",
      "display_name": "Python (Pyodide)",
      "language": "python"
    },
    "language_info": {
      "codemirror_mode": {
        "name": "python",
        "version": 3
      },
      "file_extension": ".py",
      "mimetype": "text/x-python",
      "name": "python",
      "nbconvert_exporter": "python",
      "pygments_lexer": "ipython3",
      "version": "3.8"
    },
    "colab": {
      "provenance": []
    }
  },
  "nbformat_minor": 5,
  "nbformat": 4,
  "cells": [
    {
      "id": "491cba08-99eb-43da-885b-073dcaab7e19",
      "cell_type": "code",
      "source": [
        "def find_missing_number(arr):\n",
        "    n = len(arr) + 1\n",
        "    expected_sum = n * (n + 1) // 2\n",
        "    actual_sum = sum(arr)\n",
        "    return expected_sum - actual_sum\n",
        "numbers = [1, 2, 4, 5, 6]\n",
        "print(\"Missing number:\", find_missing_number(numbers))"
      ],
      "metadata": {
        "trusted": true,
        "id": "491cba08-99eb-43da-885b-073dcaab7e19",
        "outputId": "447d4d07-e717-4abd-fc4c-0c7bd6afd390"
      },
      "outputs": [
        {
          "name": "stdout",
          "output_type": "stream",
          "text": "Missing number: 3\n"
        }
      ],
      "execution_count": null
    },
    {
      "id": "c8e8118c-4e40-4769-be02-3bdbfac79561",
      "cell_type": "code",
      "source": [
        "def is_balanced(s):\n",
        "    stack = []\n",
        "    mapping = {')': '(', '}': '{', ']': '['}\n",
        "    for char in s:\n",
        "        if char in \"({[\":\n",
        "            stack.append(char)\n",
        "        elif char in \")}]\":\n",
        "            if not stack or stack[-1] != mapping[char]:\n",
        "                return False\n",
        "            stack.pop()\n",
        "    return not stack\n",
        "print(is_balanced(\"({[]})\"))\n",
        "print(is_balanced(\"({[})\"))"
      ],
      "metadata": {
        "trusted": true,
        "id": "c8e8118c-4e40-4769-be02-3bdbfac79561",
        "outputId": "2929ceac-7f96-46f4-88b3-24dfe57bed54"
      },
      "outputs": [
        {
          "name": "stdout",
          "output_type": "stream",
          "text": "True\nFalse\n"
        }
      ],
      "execution_count": null
    },
    {
      "id": "96faf6b9-4a93-4ec6-aa3e-e8e708b55ecd",
      "cell_type": "code",
      "source": [
        "def count_words(sentence):\n",
        "    words = sentence.split()\n",
        "    return len(words)\n",
        "print(count_words(\"Hello world\"))\n",
        "print(count_words(\"This is a test sentence.\"))\n",
        "print(count_words(\"   Extra   spaces here   \"))"
      ],
      "metadata": {
        "trusted": true,
        "id": "96faf6b9-4a93-4ec6-aa3e-e8e708b55ecd",
        "outputId": "2e25f467-1365-4a9d-e609-bf5ed9334958"
      },
      "outputs": [
        {
          "name": "stdout",
          "output_type": "stream",
          "text": "2\n5\n3\n"
        }
      ],
      "execution_count": null
    },
    {
      "id": "8edc3c3e-0e31-4f85-8846-6bfc1562e7a0",
      "cell_type": "code",
      "source": [
        "def is_pythagorean_triplet(a, b, c):\n",
        "    sides = sorted([a, b, c])\n",
        "    x, y, z = sides\n",
        "    return x**2 + y**2 == z**2\n",
        "print(is_pythagorean_triplet(3, 4, 5))\n",
        "print(is_pythagorean_triplet(5, 12, 13))\n",
        "print(is_pythagorean_triplet(8, 15, 17))\n",
        "print(is_pythagorean_triplet(3, 5, 6))"
      ],
      "metadata": {
        "trusted": true,
        "id": "8edc3c3e-0e31-4f85-8846-6bfc1562e7a0",
        "outputId": "71e2d7ed-25ad-4746-c7b1-2b0cb9e819e7"
      },
      "outputs": [
        {
          "name": "stdout",
          "output_type": "stream",
          "text": "True\nTrue\nTrue\nFalse\n"
        }
      ],
      "execution_count": null
    },
    {
      "id": "49c387c3-dc6b-4360-86a3-d3b9f0e31a7b",
      "cell_type": "code",
      "source": [
        "def bubble_sort(arr):\n",
        "    n = len(arr)\n",
        "    for i in range(n - 1):\n",
        "        for j in range(n - i - 1):\n",
        "            if arr[j] > arr[j + 1]:\n",
        "                arr[j], arr[j + 1] = arr[j + 1], arr[j]\n",
        "    return arr\n",
        "nums = [64, 34, 25, 12, 22, 11, 90]\n",
        "print(bubble_sort(nums))  # [11, 12, 22, 25, 34, 64, 90]"
      ],
      "metadata": {
        "trusted": true,
        "id": "49c387c3-dc6b-4360-86a3-d3b9f0e31a7b",
        "outputId": "940e24ba-0286-4eac-e0f4-4de270a7377e"
      },
      "outputs": [
        {
          "name": "stdout",
          "output_type": "stream",
          "text": "[11, 12, 22, 25, 34, 64, 90]\n"
        }
      ],
      "execution_count": null
    },
    {
      "id": "7ab16b84-42be-4087-9ad5-9727904e3671",
      "cell_type": "code",
      "source": [
        "def binary_search(arr, target):\n",
        "    left, right = 0, len(arr) - 1\n",
        "    while left <= right:\n",
        "        mid = (left + right) // 2\n",
        "        if arr[mid] == target:\n",
        "            return mid\n",
        "        elif arr[mid] < target:\n",
        "            left = mid + 1\n",
        "        else:\n",
        "            right = mid - 1\n",
        "    return -1\n",
        "nums = [1, 3, 5, 7, 9, 11, 13]\n",
        "print(binary_search(nums, 7))\n",
        "print(binary_search(nums, 4))"
      ],
      "metadata": {
        "trusted": true,
        "id": "7ab16b84-42be-4087-9ad5-9727904e3671",
        "outputId": "8c978cfa-873a-4ba5-9272-f7b73f5eea57"
      },
      "outputs": [
        {
          "name": "stdout",
          "output_type": "stream",
          "text": "3\n-1\n"
        }
      ],
      "execution_count": null
    },
    {
      "id": "21152e1e-5cd8-4966-b607-6ced949cc81a",
      "cell_type": "code",
      "source": [
        "def find_subarray_with_sum(arr, target):\n",
        "    start = 0\n",
        "    current_sum = 0\n",
        "    for end in range(len(arr)):\n",
        "        current_sum += arr[end]\n",
        "        while current_sum > target and start <= end:\n",
        "            current_sum -= arr[start]\n",
        "            start += 1\n",
        "        if current_sum == target:\n",
        "            return (start, end)\n",
        "    return -1\n",
        "nums = [1, 2, 3, 7, 5]\n",
        "print(find_subarray_with_sum(nums, 12))"
      ],
      "metadata": {
        "trusted": true,
        "id": "21152e1e-5cd8-4966-b607-6ced949cc81a",
        "outputId": "4098b4fe-3ab8-4806-d696-31d39acf9035"
      },
      "outputs": [
        {
          "name": "stdout",
          "output_type": "stream",
          "text": "(1, 3)\n"
        }
      ],
      "execution_count": null
    },
    {
      "id": "88cb8110-2169-4c76-9a4a-bf9f27bd0c81",
      "cell_type": "code",
      "source": [
        "import re\n",
        "from collections import Counter\n",
        "import os\n",
        "print(os.listdir('.'))\n",
        "LOG_PATTERN = re.compile(\n",
        "    r'(?P<ip>\\d+\\.\\d+\\.\\d+\\.\\d+) .*? \"(?P<request>.*?)\" (?P<status>\\d{3}) .*'\n",
        ")\n",
        "\n",
        "def parse_log_line(line):\n",
        "    match = LOG_PATTERN.match(line)\n",
        "    if match:\n",
        "        ip = match.group(\"ip\")\n",
        "        request = match.group(\"request\")\n",
        "        status = match.group(\"status\")\n",
        "        method, url, *_ = request.split(\" \")\n",
        "        return ip, status, url\n",
        "    else:\n",
        "        return None\n",
        "\n",
        "def analyze_log_file(filename):\n",
        "    ip_counts = Counter()\n",
        "    status_counts = Counter()\n",
        "    url_counts = Counter()\n",
        "    bad_lines = 0\n",
        "\n",
        "    with open(filename, \"r\", encoding=\"utf-8\", errors=\"ignore\") as f:\n",
        "        for line in f:\n",
        "            parsed = parse_log_line(line)\n",
        "            if parsed:\n",
        "                ip, status, url = parsed\n",
        "                ip_counts[ip] += 1\n",
        "                status_counts[status] += 1\n",
        "                url_counts[url] += 1\n",
        "            else:\n",
        "                bad_lines += 1\n",
        "\n",
        "    print(\"Top 5 IP Addresses:\")\n",
        "    for ip, count in ip_counts.most_common(5):\n",
        "        print(f\"{ip}: {count}\")\n",
        "\n",
        "    print(\"\\nTop 5 Response Codes:\")\n",
        "    for status, count in status_counts.most_common(5):\n",
        "        print(f\"{status}: {count}\")\n",
        "\n",
        "    print(\"\\nTop 5 URLs Accessed:\")\n",
        "    for url, count in url_counts.most_common(5):\n",
        "        print(f\"{url}: {count}\")\n",
        "\n",
        "    print(f\"\\nMalformed log lines skipped: {bad_lines}\")\n",
        "\n",
        "filename = \"access.log\"\n",
        "analyze_log_file(filename)"
      ],
      "metadata": {
        "trusted": true,
        "colab": {
          "base_uri": "https://localhost:8080/"
        },
        "id": "88cb8110-2169-4c76-9a4a-bf9f27bd0c81",
        "outputId": "8cdf55d3-7e70-42f8-cd9d-597d2a2d5652"
      },
      "outputs": [
        {
          "output_type": "stream",
          "name": "stdout",
          "text": [
            "['.config', 'access.log', 'sample_data']\n",
            "Top 5 IP Addresses:\n",
            "192.168.1.1: 3\n",
            "192.168.1.2: 2\n",
            "192.168.1.3: 1\n",
            "\n",
            "Top 5 Response Codes:\n",
            "200: 4\n",
            "404: 2\n",
            "\n",
            "Top 5 URLs Accessed:\n",
            "/index.html: 2\n",
            "/images/logo.png: 2\n",
            "/submit.php: 1\n",
            "/about.html: 1\n",
            "\n",
            "Malformed log lines skipped: 1\n"
          ]
        }
      ],
      "execution_count": 12
    },
    {
      "cell_type": "code",
      "source": [],
      "metadata": {
        "id": "boOGMclsEJtS"
      },
      "id": "boOGMclsEJtS",
      "execution_count": null,
      "outputs": []
    }
  ]
}