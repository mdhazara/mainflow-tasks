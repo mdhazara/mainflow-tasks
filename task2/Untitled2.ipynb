{
  "metadata": {
    "kernelspec": {
      "name": "python",
      "display_name": "Python (Pyodide)",
      "language": "python"
    },
    "language_info": {
      "codemirror_mode": {
        "name": "python",
        "version": 3
      },
      "file_extension": ".py",
      "mimetype": "text/x-python",
      "name": "python",
      "nbconvert_exporter": "python",
      "pygments_lexer": "ipython3",
      "version": "3.8"
    }
  },
  "nbformat_minor": 5,
  "nbformat": 4,
  "cells": [
    {
      "id": "03931ea7-ad82-4203-937e-f97503cc93f9",
      "cell_type": "code",
      "source": "a = int(input(\"Enter the first number: \"))\nb = int(input(\"Enter the second number: \"))\nprint(a + b)",
      "metadata": {
        "trusted": true
      },
      "outputs": [
        {
          "output_type": "stream",
          "name": "stdin",
          "text": "Enter the first number:  5\nEnter the second number:  4\n"
        },
        {
          "name": "stdout",
          "output_type": "stream",
          "text": "9\n"
        }
      ],
      "execution_count": 1
    },
    {
      "id": "65c441e0-78c5-4d43-8d62-cd12ba9aa5ab",
      "cell_type": "code",
      "source": "c = int(input(\"Enter the number: \"))\nif c % 2 == 0:\n    print(\"Even\")\nelse:\n    print(\"Odd\")",
      "metadata": {
        "trusted": true
      },
      "outputs": [
        {
          "output_type": "stream",
          "name": "stdin",
          "text": "Enter the number:  7\n"
        },
        {
          "name": "stdout",
          "output_type": "stream",
          "text": "Odd\n"
        }
      ],
      "execution_count": 2
    },
    {
      "id": "baa947c1-ae46-4667-9f48-208eac0bb01e",
      "cell_type": "code",
      "source": "import math\nn = int(input(\"Enter a number: \"))\nprint(\"Factorial of\", n, \"is\", math.factorial(n))\n",
      "metadata": {
        "trusted": true
      },
      "outputs": [
        {
          "output_type": "stream",
          "name": "stdin",
          "text": "Enter a number:  5\n"
        },
        {
          "name": "stdout",
          "output_type": "stream",
          "text": "Factorial of 5 is 120\n"
        }
      ],
      "execution_count": 3
    },
    {
      "id": "0425fb23-9b36-4eb2-8e72-204bd54e3ce6",
      "cell_type": "code",
      "source": "n = int(input(\"Enter the number of Fibonacci terms: \"))\nfibonacci = []\na, b = 0, 1\nfor i in range(n):\n    fibonacci.append(a)\n    a, b = b, a + b\nprint(\"Fibonacci sequence:\", fibonacci)\n",
      "metadata": {
        "trusted": true
      },
      "outputs": [
        {
          "output_type": "stream",
          "name": "stdin",
          "text": "Enter the number of Fibonacci terms:  4\n"
        },
        {
          "name": "stdout",
          "output_type": "stream",
          "text": "Fibonacci sequence: [0, 1, 1, 2]\n"
        }
      ],
      "execution_count": 4
    },
    {
      "id": "d0f54dc3-0a95-4710-8c94-c9f4251bf50b",
      "cell_type": "code",
      "source": "s = input(\"Enter a string: \")\nreversed_string = s[::-1]\nprint(\"Reversed string:\", reversed_string)",
      "metadata": {
        "trusted": true
      },
      "outputs": [
        {
          "output_type": "stream",
          "name": "stdin",
          "text": "Enter a string:  hazara\n"
        },
        {
          "name": "stdout",
          "output_type": "stream",
          "text": "Reversed string: arazah\n"
        }
      ],
      "execution_count": 5
    },
    {
      "id": "a2bd4e68-856b-4a39-a34f-f9f0d2b8b1e9",
      "cell_type": "code",
      "source": "d = input(\"Enter a string: \")\nd_clean = d.lower().replace(\" \", \"\")\nis_palindrome = d_clean == d_clean[::-1]\nprint(is_palindrome)",
      "metadata": {
        "trusted": true
      },
      "outputs": [
        {
          "output_type": "stream",
          "name": "stdin",
          "text": "Enter a string:  tabassum\n"
        },
        {
          "name": "stdout",
          "output_type": "stream",
          "text": "False\n"
        }
      ],
      "execution_count": 6
    },
    {
      "id": "4af00e83-fe79-4cd3-86b6-35ade0162dc3",
      "cell_type": "code",
      "source": "year = int(input(\"Enter a year: \"))\nis_leap = (year % 4 == 0 and year % 100 != 0) or (year % 400 == 0)\nprint(is_leap)",
      "metadata": {
        "trusted": true
      },
      "outputs": [
        {
          "output_type": "stream",
          "name": "stdin",
          "text": "Enter a year:  2024\n"
        },
        {
          "name": "stdout",
          "output_type": "stream",
          "text": "True\n"
        }
      ],
      "execution_count": 7
    },
    {
      "id": "52d7211c-1ed4-438e-9a74-244c14b8f29d",
      "cell_type": "code",
      "source": "n = int(input(\"Enter a number: \"))\nnum_str = str(n)\nnum_digits = len(num_str)\nsum_of_powers = sum(int(digit) ** num_digits for digit in num_str)\nprint(sum_of_powers == n)",
      "metadata": {
        "trusted": true
      },
      "outputs": [
        {
          "output_type": "stream",
          "name": "stdin",
          "text": "Enter a number:  12\n"
        },
        {
          "name": "stdout",
          "output_type": "stream",
          "text": "False\n"
        }
      ],
      "execution_count": 8
    },
    {
      "id": "4685ce25-c6e2-4d5c-b9c9-c0c2b6c011a9",
      "cell_type": "code",
      "source": "import math\n\n# Caesar Cipher\ndef caesar_encrypt(text, shift):\n    encrypted = \"\"\n    for char in text:\n        if char.isupper():\n            encrypted += chr((ord(char) - 65 + shift) % 26 + 65)\n        elif char.islower():\n            encrypted += chr((ord(char) - 97 + shift) % 26 + 97)\n        else:\n            encrypted += char\n    return encrypted\n\ndef caesar_decrypt(text, shift):\n    return caesar_encrypt(text, -shift)\n\n# Vigenère Cipher\ndef vigenere_encrypt(text, key):\n    encrypted = \"\"\n    key = key.lower()\n    key_length = len(key)\n    for i, char in enumerate(text):\n        if char.isalpha():\n            shift = ord(key[i % key_length]) - 97\n            encrypted += caesar_encrypt(char, shift)\n        else:\n            encrypted += char\n    return encrypted\n\ndef vigenere_decrypt(cipher, key):\n    decrypted = \"\"\n    key = key.lower()\n    key_length = len(key)\n    for i, char in enumerate(cipher):\n        if char.isalpha():\n            shift = ord(key[i % key_length]) - 97\n            decrypted += caesar_decrypt(char, shift)\n        else:\n            decrypted += char\n    return decrypted\n\n# Matrix Transposition\ndef matrix_encrypt(text):\n    n = math.ceil(math.sqrt(len(text)))\n    matrix = [[' ' for _ in range(n)] for _ in range(n)]\n\n    idx = 0\n    for i in range(n):\n        for j in range(n):\n            if idx < len(text):\n                matrix[i][j] = text[idx]\n                idx += 1\n\n    encrypted = ''\n    for j in range(n):\n        for i in range(n):\n            encrypted += matrix[i][j]\n    return encrypted\n\ndef matrix_decrypt(cipher):\n    n = math.ceil(math.sqrt(len(cipher)))\n    matrix = [[' ' for _ in range(n)] for _ in range(n)]\n\n    idx = 0\n    for j in range(n):\n        for i in range(n):\n            if idx < len(cipher):\n                matrix[i][j] = cipher[idx]\n                idx += 1\n\n    decrypted = ''\n    for i in range(n):\n        for j in range(n):\n            decrypted += matrix[i][j]\n    return decrypted.strip()\n\n# 🔐 Full Multi-layer Encryption System\ndef encrypt(text, caesar_shift=3, vigenere_key=\"KEY\"):\n    step1 = caesar_encrypt(text, caesar_shift)\n    step2 = vigenere_encrypt(step1, vigenere_key)\n    final = matrix_encrypt(step2)\n    return final\n\ndef decrypt(cipher, caesar_shift=3, vigenere_key=\"KEY\"):\n    step1 = matrix_decrypt(cipher)\n    step2 = vigenere_decrypt(step1, vigenere_key)\n    final = caesar_decrypt(step2, caesar_shift)\n    return final\n\n# ✨ Example\nmsg = \"Hello, Encryption 123!\"\nencrypted_msg = encrypt(msg, caesar_shift=4, vigenere_key=\"SECURE\")\ndecrypted_msg = decrypt(encrypted_msg, caesar_shift=4, vigenere_key=\"SECURE\")\n\nprint(\"Original:\", msg)\nprint(\"Encrypted:\", encrypted_msg)\nprint(\"Decrypted:\", decrypted_msg)\n",
      "metadata": {
        "trusted": true
      },
      "outputs": [
        {
          "name": "stdout",
          "output_type": "stream",
          "text": "Original: Hello, Encryption 123!\nEncrypted: D,mm3m gi!rMl  jtb1 jao2 \nDecrypted: Hello, Encryption 123!\n"
        }
      ],
      "execution_count": 15
    }
  ]
}