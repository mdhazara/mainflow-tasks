{
  "metadata": {
    "kernelspec": {
      "name": "python",
      "display_name": "Python (Pyodide)",
      "language": "python"
    },
    "language_info": {
      "codemirror_mode": {
        "name": "python",
        "version": 3
      },
      "file_extension": ".py",
      "mimetype": "text/x-python",
      "name": "python",
      "nbconvert_exporter": "python",
      "pygments_lexer": "ipython3",
      "version": "3.8"
    }
  },
  "nbformat_minor": 5,
  "nbformat": 4,
  "cells": [
    {
      "id": "d2e8c242-2499-44b3-89e4-f51479092b84",
      "cell_type": "code",
      "source": "n = int(input(\"Enter a number: \"))\nprint(f\"\\nMultiplication Table of {n}:\")\nfor i in range(1, 11):\n    print(f\"{n} x {i} = {n * i}\")",
      "metadata": {
        "trusted": true
      },
      "outputs": [
        {
          "output_type": "stream",
          "name": "stdin",
          "text": "Enter a number:  4\n"
        },
        {
          "name": "stdout",
          "output_type": "stream",
          "text": "\nMultiplication Table of 4:\n4 x 1 = 4\n4 x 2 = 8\n4 x 3 = 12\n4 x 4 = 16\n4 x 5 = 20\n4 x 6 = 24\n4 x 7 = 28\n4 x 8 = 32\n4 x 9 = 36\n4 x 10 = 40\n"
        }
      ],
      "execution_count": 1
    },
    {
      "id": "e1b9046d-7175-4cfe-a000-1852e0e57fa1",
      "cell_type": "code",
      "source": "a = int(input(\"Enter first number (a): \"))\nb = int(input(\"Enter second number (b): \"))\na = a + b\nb = a - b\na = a - b\nprint(f\"\\nAfter swapping:\\na = {a}\\nb = {b}\")",
      "metadata": {
        "trusted": true
      },
      "outputs": [
        {
          "output_type": "stream",
          "name": "stdin",
          "text": "Enter first number (a):  6\nEnter second number (b):  9\n"
        },
        {
          "name": "stdout",
          "output_type": "stream",
          "text": "\nAfter swapping:\na = 9\nb = 6\n"
        }
      ],
      "execution_count": 2
    },
    {
      "id": "472055ee-dbcc-40c7-8b26-b0f1a53555c2",
      "cell_type": "code",
      "source": "s1 = input(\"Enter the main string (s1): \")\ns2 = input(\"Enter the substring to check (s2): \")\nif s2 in s1:\n    print(\"True\")\nelse:\n    print(\"False\")",
      "metadata": {
        "trusted": true
      },
      "outputs": [
        {
          "output_type": "stream",
          "name": "stdin",
          "text": "Enter the main string (s1):  Hazara\nEnter the substring to check (s2):  zara\n"
        },
        {
          "name": "stdout",
          "output_type": "stream",
          "text": "True\n"
        }
      ],
      "execution_count": 3
    },
    {
      "id": "27be57f1-6acd-430d-8210-a3caa954a50c",
      "cell_type": "code",
      "source": "n = int(input(\"Enter a decimal number: \"))\nbinary = bin(n)[2:]\nprint(f\"Binary representation: {binary}\")",
      "metadata": {
        "trusted": true
      },
      "outputs": [
        {
          "output_type": "stream",
          "name": "stdin",
          "text": "Enter a decimal number:  8\n"
        },
        {
          "name": "stdout",
          "output_type": "stream",
          "text": "Binary representation: 1000\n"
        }
      ],
      "execution_count": 4
    },
    {
      "id": "b2bb70ba-20e9-407c-bb31-cec0ec49ff3c",
      "cell_type": "code",
      "source": "A = [\n    [1, 2, 3],\n    [4, 5, 6]\n]\nB = [\n    [7, 8, 9],\n    [10, 11, 12]\n]\nrows = len(A)\ncols = len(A[0])\nresult = [[0 for _ in range(cols)] for _ in range(rows)]\nfor i in range(rows):\n    for j in range(cols):\n        result[i][j] = A[i][j] + B[i][j]\nprint(\"Sum of matrices:\")\nfor row in result:\n    print(row)",
      "metadata": {
        "trusted": true
      },
      "outputs": [
        {
          "name": "stdout",
          "output_type": "stream",
          "text": "Sum of matrices:\n[8, 10, 12]\n[14, 16, 18]\n"
        }
      ],
      "execution_count": 5
    },
    {
      "id": "381c7242-f884-4fad-94f9-501baf7b4d58",
      "cell_type": "code",
      "source": "A = [\n    [1, 2],\n    [3, 4],\n    [5, 6]\n]\nB = [\n    [7, 8, 9],\n    [10, 11, 12]\n]\nrows_A = len(A)\ncols_A = len(A[0])\ncols_B = len(B[0])\nresult = [[0 for _ in range(cols_B)] for _ in range(rows_A)]\nfor i in range(rows_A):\n    for j in range(cols_B):\n        for k in range(cols_A):\n            result[i][j] += A[i][k] * B[k][j]\nprint(\"Product of matrices:\")\nfor row in result:\n    print(row)",
      "metadata": {
        "trusted": true
      },
      "outputs": [
        {
          "name": "stdout",
          "output_type": "stream",
          "text": "Product of matrices:\n[27, 30, 33]\n[61, 68, 75]\n[95, 106, 117]\n"
        }
      ],
      "execution_count": 6
    },
    {
      "id": "ea6ea44f-6dc2-4d02-8810-436d4cce8d89",
      "cell_type": "code",
      "source": "nums = list(map(int, input(\"Enter numbers separated by space: \").split()))\nunique_nums = list(set(nums))\nif len(unique_nums) < 2:\n    print(\"Second largest not found.\")\nelse:\n    unique_nums.sort(reverse=True)\n    print(\"Second largest number is:\", unique_nums[1])",
      "metadata": {
        "trusted": true
      },
      "outputs": [
        {
          "output_type": "stream",
          "name": "stdin",
          "text": "Enter numbers separated by space:  2 4 6 5 3 8\n"
        },
        {
          "name": "stdout",
          "output_type": "stream",
          "text": "Second largest number is: 6\n"
        }
      ],
      "execution_count": 7
    },
    {
      "id": "b8a5c486-4c21-4d82-99d4-dfd5355704c7",
      "cell_type": "code",
      "source": "str1 = input(\"Enter first string: \").replace(\" \", \"\").lower()\nstr2 = input(\"Enter second string: \").replace(\" \", \"\").lower()\nif sorted(str1) == sorted(str2):\n    print(\"True\")\nelse:\n    print(\"False\")",
      "metadata": {
        "trusted": true
      },
      "outputs": [
        {
          "output_type": "stream",
          "name": "stdin",
          "text": "Enter first string:  net\nEnter second string:  sent\n"
        },
        {
          "name": "stdout",
          "output_type": "stream",
          "text": "False\n"
        }
      ],
      "execution_count": 8
    },
    {
      "id": "ac2592ad-264c-4c69-ab31-a81006337b45",
      "cell_type": "code",
      "source": "## def print_board(board):\n    for row in board:\n        print(\" | \".join(row))\n    print(\"-\" * 5)\n\ndef is_winner(board, player):\n    for i in range(3):\n        if all(cell == player for cell in board[i]):\n            return True\n        if all(board[j][i] == player for j in range(3)):\n            return True\n    if all(board[i][i] == player for i in range(3)):\n        return True\n    if all(board[i][2 - i] == player for i in range(3)):\n        return True\n    return False\n\ndef is_full(board):\n    return all(cell != ' ' for row in board for cell in row)\n\ndef get_empty_cells(board):\n    return [(i, j) for i in range(3) for j in range(3) if board[i][j] == ' ']\n\ndef minimax(board, depth, is_maximizing):\n    if is_winner(board, 'O'):\n        return 1\n    if is_winner(board, 'X'):\n        return -1\n    if is_full(board):\n        return 0\n    if is_maximizing:\n        best_score = float('-inf')\n        for (i, j) in get_empty_cells(board):\n            board[i][j] = 'O'\n            score = minimax(board, depth + 1, False)\n            board[i][j] = ' '\n            best_score = max(score, best_score)\n        return best_score\n    else:\n        best_score = float('inf')\n        for (i, j) in get_empty_cells(board):\n            board[i][j] = 'X'\n            score = minimax(board, depth + 1, True)\n            board[i][j] = ' '\n            best_score = min(score, best_score)\n        return best_score\n\ndef best_move(board):\n    best_score = float('-inf')\n    move = None\n    for (i, j) in get_empty_cells(board):\n        board[i][j] = 'O'\n        score = minimax(board, 0, False)\n        board[i][j] = ' '\n        if score > best_score:\n            best_score = score\n            move = (i, j)\n    return move\n\ndef play_game():\n    board = [[' ' for _ in range(3)] for _ in range(3)]\n    print(\"Welcome to AI Tic-Tac-Toe! You are 'X' and AI is 'O'.\")\n    print_board(board)\n    while True:\n        while True:\n            try:\n                row = int(input(\"Enter row (0-2): \"))\n                col = int(input(\"Enter column (0-2): \"))\n                if board[row][col] == ' ':\n                    board[row][col] = 'X'\n                    break\n                else:\n                    print(\"Cell already taken. Try again.\")\n            except (IndexError, ValueError):\n                print(\"Invalid input. Use numbers between 0 and 2.\")\n        print_board(board)\n        if is_winner(board, 'X'):\n            print(\"You win!\")\n            break\n        if is_full(board):\n            print(\"It's a draw!\")\n            break\n        i, j = best_move(board)\n        board[i][j] = 'O'\n        print(\"AI's Move:\")\n        print_board(board)\n        if is_winner(board, 'O'):\n            print(\"AI wins!\")\n            break\n        if is_full(board):\n            print(\"It's a draw!\")\n            break\n\nplay_game()",
      "metadata": {
        "trusted": true
      },
      "outputs": [
        {
          "name": "stdout",
          "output_type": "stream",
          "text": "Welcome to AI Tic-Tac-Toe! You are 'X' and AI is 'O'.\n  |   |  \n  |   |  \n  |   |  \n-----\n"
        },
        {
          "output_type": "stream",
          "name": "stdin",
          "text": "Enter row (0-2):  0\nEnter column (0-2):  0\n"
        },
        {
          "name": "stdout",
          "output_type": "stream",
          "text": "X |   |  \n  |   |  \n  |   |  \n-----\nAI's Move:\nX |   |  \n  | O |  \n  |   |  \n-----\n"
        },
        {
          "output_type": "stream",
          "name": "stdin",
          "text": "Enter row (0-2):  1\nEnter column (0-2):  0\n"
        },
        {
          "name": "stdout",
          "output_type": "stream",
          "text": "X |   |  \nX | O |  \n  |   |  \n-----\nAI's Move:\nX |   |  \nX | O |  \nO |   |  \n-----\n"
        },
        {
          "output_type": "stream",
          "name": "stdin",
          "text": "Enter row (0-2):  0\nEnter column (0-2):  2\n"
        },
        {
          "name": "stdout",
          "output_type": "stream",
          "text": "X |   | X\nX | O |  \nO |   |  \n-----\nAI's Move:\nX | O | X\nX | O |  \nO |   |  \n-----\n"
        },
        {
          "output_type": "stream",
          "name": "stdin",
          "text": "Enter row (0-2):  2\nEnter column (0-2):  1\n"
        },
        {
          "name": "stdout",
          "output_type": "stream",
          "text": "X | O | X\nX | O |  \nO | X |  \n-----\nAI's Move:\nX | O | X\nX | O | O\nO | X |  \n-----\n"
        },
        {
          "output_type": "stream",
          "name": "stdin",
          "text": "Enter row (0-2):  2\nEnter column (0-2):  2\n"
        },
        {
          "name": "stdout",
          "output_type": "stream",
          "text": "X | O | X\nX | O | O\nO | X | X\n-----\nIt's a draw!\n"
        }
      ],
      "execution_count": 9
    }
  ]
}